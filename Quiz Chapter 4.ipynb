{
 "cells": [
  {
   "cell_type": "code",
   "execution_count": 2,
   "metadata": {},
   "outputs": [
    {
     "name": "stdout",
     "output_type": "stream",
     "text": [
      "There\n"
     ]
    }
   ],
   "source": [
    "def thing():\n",
    "    print('Hello')\n",
    "print('There')"
   ]
  },
  {
   "cell_type": "code",
   "execution_count": 3,
   "metadata": {},
   "outputs": [],
   "source": [
    "x = 'banana'\n",
    "y = max(x)\n",
    "z = y * 2"
   ]
  },
  {
   "cell_type": "code",
   "execution_count": 4,
   "metadata": {},
   "outputs": [
    {
     "name": "stdout",
     "output_type": "stream",
     "text": [
      "10\n",
      "20\n"
     ]
    }
   ],
   "source": [
    "def func(x):\n",
    "    print (x)\n",
    "func(10)\n",
    "func(20)"
   ]
  },
  {
   "cell_type": "code",
   "execution_count": 5,
   "metadata": {},
   "outputs": [
    {
     "name": "stdout",
     "output_type": "stream",
     "text": [
      "Hello\n"
     ]
    }
   ],
   "source": [
    "def stuff():\n",
    "    print('Hello')\n",
    "    return\n",
    "    print('World')\n",
    "stuff()"
   ]
  },
  {
   "cell_type": "code",
   "execution_count": 6,
   "metadata": {},
   "outputs": [
    {
     "name": "stdout",
     "output_type": "stream",
     "text": [
      "Bonjour Michael\n"
     ]
    }
   ],
   "source": [
    "def greet(lang):\n",
    "    if lang == 'es':\n",
    "        return 'Hola'\n",
    "    elif lang == 'fr':\n",
    "        return 'Bonjour'\n",
    "    else:\n",
    "        return 'Hello'\n",
    "print(greet('fr'),'Michael')"
   ]
  },
  {
   "cell_type": "code",
   "execution_count": 7,
   "metadata": {},
   "outputs": [
    {
     "name": "stdout",
     "output_type": "stream",
     "text": [
      "2\n"
     ]
    }
   ],
   "source": [
    "def addtwo(a, b):\n",
    "    added = a + b\n",
    "    return a\n",
    "x = addtwo(2, 7)\n",
    "print(x)"
   ]
  },
  {
   "cell_type": "markdown",
   "metadata": {},
   "source": [
    "4.6 Write a program to prompt the user for hours and rate per hour using input to compute gross pay. Pay should be the normal rate for hours up to 40 and time-and-a-half for the hourly rate for all hours worked above 40 hours. Put the logic to do the computation of pay in a function called computepay() and use the function to do the computation. The function should return a value. Use 45 hours and a rate of 10.50 per hour to test the program (the pay should be 498.75). "
   ]
  },
  {
   "cell_type": "code",
   "execution_count": 19,
   "metadata": {},
   "outputs": [],
   "source": [
    "def computepay(h,r):\n",
    "    if h > 40.0:\n",
    "        pay1 = h * r\n",
    "        otpay = (h-40.0) * (r * 0.5)\n",
    "        total = pay1 + otpay\n",
    "    else:\n",
    "        total = h * r\n",
    "    return total"
   ]
  },
  {
   "cell_type": "code",
   "execution_count": 20,
   "metadata": {},
   "outputs": [
    {
     "name": "stdout",
     "output_type": "stream",
     "text": [
      "Enter Hours:45\n",
      "Enter Rate:10.5\n",
      "Pay 498.75\n"
     ]
    }
   ],
   "source": [
    "h = float(input(\"Enter Hours:\"))\n",
    "r = float(input(\"Enter Rate:\"))\n",
    "p = computepay(h,r)\n",
    "print(\"Pay\",p)"
   ]
  }
 ],
 "metadata": {
  "kernelspec": {
   "display_name": "Python 3",
   "language": "python",
   "name": "python3"
  },
  "language_info": {
   "codemirror_mode": {
    "name": "ipython",
    "version": 3
   },
   "file_extension": ".py",
   "mimetype": "text/x-python",
   "name": "python",
   "nbconvert_exporter": "python",
   "pygments_lexer": "ipython3",
   "version": "3.7.3"
  }
 },
 "nbformat": 4,
 "nbformat_minor": 2
}
